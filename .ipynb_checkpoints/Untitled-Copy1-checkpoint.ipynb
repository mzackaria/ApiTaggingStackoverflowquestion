{
 "cells": [
  {
   "cell_type": "markdown",
   "metadata": {},
   "source": [
    "# Moteur de recommendations de films - Partie 2\n",
    "\n",
    "## Introduction\n",
    "\n",
    "Nous avons précédemment étudier un jeu de données de films. Nous avons préparer les données pour l'étude à venir. Nous allons étudier dans cette partie les différentes manières de faire une catégorisation non-supervisées de nos données. Notre but est de pouvoir proposer à un utilisateur 5 films similaires au film envoyé. Et retenir celle qui nous semble la plus pertinente.\n"
   ]
  },
  {
   "cell_type": "code",
   "execution_count": null,
   "metadata": {},
   "outputs": [],
   "source": [
    "import "
   ]
  },
  {
   "cell_type": "markdown",
   "metadata": {},
   "source": [
    "## 1 - Distances\n",
    "\n",
    "Nous pouvons tout d'abord renvoyer les 5 films les plus proches du film envoyé"
   ]
  }
 ],
 "metadata": {
  "kernelspec": {
   "display_name": "Python 3",
   "language": "python",
   "name": "python3"
  },
  "language_info": {
   "codemirror_mode": {
    "name": "ipython",
    "version": 3
   },
   "file_extension": ".py",
   "mimetype": "text/x-python",
   "name": "python",
   "nbconvert_exporter": "python",
   "pygments_lexer": "ipython3",
   "version": "3.6.1"
  }
 },
 "nbformat": 4,
 "nbformat_minor": 2
}
